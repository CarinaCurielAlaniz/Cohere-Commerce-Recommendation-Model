{
 "cells": [
  {
   "cell_type": "code",
   "execution_count": 1,
   "metadata": {},
   "outputs": [
    {
     "name": "stdout",
     "output_type": "stream",
     "text": [
      "1.26.4\n"
     ]
    }
   ],
   "source": [
    "import numpy as np\n",
    "print(np.__version__)"
   ]
  },
  {
   "cell_type": "code",
   "execution_count": 2,
   "metadata": {
    "id": "Sm25AhO2jYe2"
   },
   "outputs": [
    {
     "name": "stderr",
     "output_type": "stream",
     "text": [
      "c:\\Users\\Jack\\AI_ML_Course\\brandmatch_proj\\.venv\\Lib\\site-packages\\sentence_transformers\\cross_encoder\\CrossEncoder.py:13: TqdmWarning: IProgress not found. Please update jupyter and ipywidgets. See https://ipywidgets.readthedocs.io/en/stable/user_install.html\n",
      "  from tqdm.autonotebook import tqdm, trange\n"
     ]
    }
   ],
   "source": [
    "# %pip install scikit-surprise\n",
    "# %pip install sentence-transformers\n",
    "\n",
    "import pandas as pd\n",
    "import numpy as np\n",
    "from numpy import random\n",
    "from sklearn.preprocessing import MinMaxScaler\n",
    "\n",
    "from sklearn.decomposition import TruncatedSVD\n",
    "from sklearn.metrics.pairwise import cosine_similarity\n",
    "from sentence_transformers import SentenceTransformer\n",
    "from surprise import SVD, Dataset, Reader\n",
    "from surprise.model_selection import train_test_split\n",
    "from surprise import accuracy\n",
    "from sentence_transformers import SentenceTransformer\n"
   ]
  },
  {
   "cell_type": "code",
   "execution_count": 28,
   "metadata": {},
   "outputs": [
    {
     "data": {
      "text/html": [
       "<div>\n",
       "<style scoped>\n",
       "    .dataframe tbody tr th:only-of-type {\n",
       "        vertical-align: middle;\n",
       "    }\n",
       "\n",
       "    .dataframe tbody tr th {\n",
       "        vertical-align: top;\n",
       "    }\n",
       "\n",
       "    .dataframe thead th {\n",
       "        text-align: right;\n",
       "    }\n",
       "</style>\n",
       "<table border=\"1\" class=\"dataframe\">\n",
       "  <thead>\n",
       "    <tr style=\"text-align: right;\">\n",
       "      <th></th>\n",
       "      <th>brand_id</th>\n",
       "      <th>review_id</th>\n",
       "      <th>avg_rating</th>\n",
       "      <th>is_product_recommended</th>\n",
       "      <th>review_content</th>\n",
       "      <th>is_anonymous</th>\n",
       "      <th>display_name</th>\n",
       "      <th>rating_packaging</th>\n",
       "      <th>rating_price</th>\n",
       "      <th>rating_quality</th>\n",
       "      <th>rating_service</th>\n",
       "      <th>rating_shipping</th>\n",
       "      <th>rating_taste</th>\n",
       "      <th>sentiment_score</th>\n",
       "    </tr>\n",
       "  </thead>\n",
       "  <tbody>\n",
       "    <tr>\n",
       "      <th>0</th>\n",
       "      <td>00411460f7c92d2124a67ea0f4cb5f85</td>\n",
       "      <td>2598</td>\n",
       "      <td>5.0</td>\n",
       "      <td>True</td>\n",
       "      <td>basically stick peanut butter one flavor theyre terrible peanut butter one bestseller big bag small bag doesnt matter one sold took little sell peanut butter cup sometimes would get two case every week go fast seller would love get promo price customer complaint sometimes big bag maybe little bit pricey sell 899 maybe cost price could go little bit would appealing</td>\n",
       "      <td>False</td>\n",
       "      <td>Snacks</td>\n",
       "      <td>5.0</td>\n",
       "      <td>5.0</td>\n",
       "      <td>5.0</td>\n",
       "      <td>5.0</td>\n",
       "      <td>5.0</td>\n",
       "      <td>5.0</td>\n",
       "      <td>1</td>\n",
       "    </tr>\n",
       "    <tr>\n",
       "      <th>103</th>\n",
       "      <td>06409663226af2f3114485aa4e0a23b4</td>\n",
       "      <td>3425</td>\n",
       "      <td>5.0</td>\n",
       "      <td>True</td>\n",
       "      <td>overall sell well experience slowdown summertime business tends slower season</td>\n",
       "      <td>False</td>\n",
       "      <td>Snacks</td>\n",
       "      <td>5.0</td>\n",
       "      <td>5.0</td>\n",
       "      <td>5.0</td>\n",
       "      <td>5.0</td>\n",
       "      <td>5.0</td>\n",
       "      <td>5.0</td>\n",
       "      <td>3</td>\n",
       "    </tr>\n",
       "    <tr>\n",
       "      <th>1340</th>\n",
       "      <td>a01a0380ca3c61428c26a231f0e49a09</td>\n",
       "      <td>2608</td>\n",
       "      <td>4.0</td>\n",
       "      <td>True</td>\n",
       "      <td>wish could say selling better honest ive tried flavor like apple cinnamon lot think thats probably best seller think coffee particular dont really see move much one selling seems kind</td>\n",
       "      <td>False</td>\n",
       "      <td>Snacks</td>\n",
       "      <td>4.0</td>\n",
       "      <td>4.0</td>\n",
       "      <td>4.0</td>\n",
       "      <td>4.0</td>\n",
       "      <td>4.0</td>\n",
       "      <td>4.0</td>\n",
       "      <td>2</td>\n",
       "    </tr>\n",
       "    <tr>\n",
       "      <th>1620</th>\n",
       "      <td>c0c7c76d30bd3dcaefc96f40275bdc0a</td>\n",
       "      <td>2449</td>\n",
       "      <td>4.0</td>\n",
       "      <td>True</td>\n",
       "      <td>shelf taker explaining product different traditional one ni think promotion needed well theyve one thing hasnt sale since product</td>\n",
       "      <td>False</td>\n",
       "      <td>Snacks</td>\n",
       "      <td>4.0</td>\n",
       "      <td>4.0</td>\n",
       "      <td>4.0</td>\n",
       "      <td>4.0</td>\n",
       "      <td>4.0</td>\n",
       "      <td>4.0</td>\n",
       "      <td>1</td>\n",
       "    </tr>\n",
       "  </tbody>\n",
       "</table>\n",
       "</div>"
      ],
      "text/plain": [
       "                              brand_id  review_id  avg_rating  \\\n",
       "0     00411460f7c92d2124a67ea0f4cb5f85       2598         5.0   \n",
       "103   06409663226af2f3114485aa4e0a23b4       3425         5.0   \n",
       "1340  a01a0380ca3c61428c26a231f0e49a09       2608         4.0   \n",
       "1620  c0c7c76d30bd3dcaefc96f40275bdc0a       2449         4.0   \n",
       "\n",
       "      is_product_recommended  \\\n",
       "0                       True   \n",
       "103                     True   \n",
       "1340                    True   \n",
       "1620                    True   \n",
       "\n",
       "                                                                                                                                                                                                                                                                                                                                                                      review_content  \\\n",
       "0     basically stick peanut butter one flavor theyre terrible peanut butter one bestseller big bag small bag doesnt matter one sold took little sell peanut butter cup sometimes would get two case every week go fast seller would love get promo price customer complaint sometimes big bag maybe little bit pricey sell 899 maybe cost price could go little bit would appealing   \n",
       "103                                                                                                                                                                                                                                                                                                    overall sell well experience slowdown summertime business tends slower season   \n",
       "1340                                                                                                                                                                                         wish could say selling better honest ive tried flavor like apple cinnamon lot think thats probably best seller think coffee particular dont really see move much one selling seems kind   \n",
       "1620                                                                                                                                                                                                                                               shelf taker explaining product different traditional one ni think promotion needed well theyve one thing hasnt sale since product   \n",
       "\n",
       "     is_anonymous display_name  rating_packaging  rating_price  \\\n",
       "0           False       Snacks               5.0           5.0   \n",
       "103         False       Snacks               5.0           5.0   \n",
       "1340        False       Snacks               4.0           4.0   \n",
       "1620        False       Snacks               4.0           4.0   \n",
       "\n",
       "      rating_quality  rating_service  rating_shipping  rating_taste  \\\n",
       "0                5.0             5.0              5.0           5.0   \n",
       "103              5.0             5.0              5.0           5.0   \n",
       "1340             4.0             4.0              4.0           4.0   \n",
       "1620             4.0             4.0              4.0           4.0   \n",
       "\n",
       "      sentiment_score  \n",
       "0                   1  \n",
       "103                 3  \n",
       "1340                2  \n",
       "1620                1  "
      ]
     },
     "execution_count": 28,
     "metadata": {},
     "output_type": "execute_result"
    }
   ],
   "source": [
    "# Check if result are good?\n",
    "# pd.set_option('display.max_colwidth', None) \n",
    "# recommended_id = [\n",
    "#   \"c7e1249ffc03eb9ded908c236bd1996d\",\n",
    "#   \"57aeee35c98205091e18d1140e9f38cf\",\n",
    "#   \"e96ed478dab8595a7dbda4cbcbee168f\",\n",
    "#   \"4c56ff4ce4aaf9573aa5dff913df997a\"\n",
    "# ]\n",
    "recommended_id = [\n",
    "  \"c0c7c76d30bd3dcaefc96f40275bdc0a\",\n",
    "  \"00411460f7c92d2124a67ea0f4cb5f85\",\n",
    "  \"a01a0380ca3c61428c26a231f0e49a09\",\n",
    "  \"06409663226af2f3114485aa4e0a23b4\"\n",
    "]\n",
    "\n",
    "filtered_df = df[df['brand_id'].isin(recommended_id)]\n",
    "# print(filtered_df.head()['review_content'].to_string())\n",
    "filter_deep = filtered_df.drop_duplicates(subset='brand_id', keep='first')\n",
    "filter_deep\n",
    "# print(filter_deep['review_content'])"
   ]
  },
  {
   "cell_type": "code",
   "execution_count": 3,
   "metadata": {},
   "outputs": [],
   "source": [
    "\n",
    "# Load pre-trained sentence transformer model\n",
    "model = SentenceTransformer('paraphrase-MiniLM-L6-v2')"
   ]
  },
  {
   "cell_type": "code",
   "execution_count": 4,
   "metadata": {},
   "outputs": [],
   "source": [
    "df = pd.read_csv(\"../data/cleaned_df.csv\")"
   ]
  },
  {
   "cell_type": "code",
   "execution_count": 5,
   "metadata": {
    "colab": {
     "base_uri": "https://localhost:8080/",
     "height": 451
    },
    "id": "cuisX97FjRe-",
    "outputId": "d8668e6b-c440-443e-f3dd-d30321b4154b"
   },
   "outputs": [
    {
     "data": {
      "text/html": [
       "<div>\n",
       "<style scoped>\n",
       "    .dataframe tbody tr th:only-of-type {\n",
       "        vertical-align: middle;\n",
       "    }\n",
       "\n",
       "    .dataframe tbody tr th {\n",
       "        vertical-align: top;\n",
       "    }\n",
       "\n",
       "    .dataframe thead th {\n",
       "        text-align: right;\n",
       "    }\n",
       "</style>\n",
       "<table border=\"1\" class=\"dataframe\">\n",
       "  <thead>\n",
       "    <tr style=\"text-align: right;\">\n",
       "      <th></th>\n",
       "      <th>brand_id</th>\n",
       "      <th>review_id</th>\n",
       "      <th>avg_rating</th>\n",
       "      <th>is_product_recommended</th>\n",
       "      <th>review_content</th>\n",
       "      <th>is_anonymous</th>\n",
       "      <th>display_name</th>\n",
       "      <th>rating_packaging</th>\n",
       "      <th>rating_price</th>\n",
       "      <th>rating_quality</th>\n",
       "      <th>rating_service</th>\n",
       "      <th>rating_shipping</th>\n",
       "      <th>rating_taste</th>\n",
       "      <th>sentiment_score</th>\n",
       "    </tr>\n",
       "  </thead>\n",
       "  <tbody>\n",
       "    <tr>\n",
       "      <th>0</th>\n",
       "      <td>00411460f7c92d2124a67ea0f4cb5f85</td>\n",
       "      <td>2598</td>\n",
       "      <td>5.0</td>\n",
       "      <td>True</td>\n",
       "      <td>basically stick peanut butter one flavor theyr...</td>\n",
       "      <td>False</td>\n",
       "      <td>Snacks</td>\n",
       "      <td>5.0</td>\n",
       "      <td>5.0</td>\n",
       "      <td>5.0</td>\n",
       "      <td>5.0</td>\n",
       "      <td>5.0</td>\n",
       "      <td>5.0</td>\n",
       "      <td>1</td>\n",
       "    </tr>\n",
       "    <tr>\n",
       "      <th>1</th>\n",
       "      <td>00411460f7c92d2124a67ea0f4cb5f85</td>\n",
       "      <td>3718</td>\n",
       "      <td>5.0</td>\n",
       "      <td>True</td>\n",
       "      <td>carry currently stock selling well much need p...</td>\n",
       "      <td>True</td>\n",
       "      <td>Snacks</td>\n",
       "      <td>5.0</td>\n",
       "      <td>5.0</td>\n",
       "      <td>5.0</td>\n",
       "      <td>5.0</td>\n",
       "      <td>5.0</td>\n",
       "      <td>5.0</td>\n",
       "      <td>5</td>\n",
       "    </tr>\n",
       "    <tr>\n",
       "      <th>2</th>\n",
       "      <td>00411460f7c92d2124a67ea0f4cb5f85</td>\n",
       "      <td>3719</td>\n",
       "      <td>4.0</td>\n",
       "      <td>True</td>\n",
       "      <td>carry whim chocolate havent ordered recently m...</td>\n",
       "      <td>True</td>\n",
       "      <td>Snacks</td>\n",
       "      <td>4.0</td>\n",
       "      <td>4.0</td>\n",
       "      <td>4.0</td>\n",
       "      <td>4.0</td>\n",
       "      <td>4.0</td>\n",
       "      <td>4.0</td>\n",
       "      <td>3</td>\n",
       "    </tr>\n",
       "    <tr>\n",
       "      <th>3</th>\n",
       "      <td>00411460f7c92d2124a67ea0f4cb5f85</td>\n",
       "      <td>2004</td>\n",
       "      <td>5.0</td>\n",
       "      <td>True</td>\n",
       "      <td>good flavor selling fast tried time customer s...</td>\n",
       "      <td>False</td>\n",
       "      <td>Snacks</td>\n",
       "      <td>5.0</td>\n",
       "      <td>5.0</td>\n",
       "      <td>5.0</td>\n",
       "      <td>5.0</td>\n",
       "      <td>5.0</td>\n",
       "      <td>5.0</td>\n",
       "      <td>4</td>\n",
       "    </tr>\n",
       "    <tr>\n",
       "      <th>4</th>\n",
       "      <td>00411460f7c92d2124a67ea0f4cb5f85</td>\n",
       "      <td>3717</td>\n",
       "      <td>4.0</td>\n",
       "      <td>True</td>\n",
       "      <td>still carry whim selling well among flavor pea...</td>\n",
       "      <td>True</td>\n",
       "      <td>Snacks</td>\n",
       "      <td>4.0</td>\n",
       "      <td>4.0</td>\n",
       "      <td>4.0</td>\n",
       "      <td>4.0</td>\n",
       "      <td>4.0</td>\n",
       "      <td>4.0</td>\n",
       "      <td>5</td>\n",
       "    </tr>\n",
       "  </tbody>\n",
       "</table>\n",
       "</div>"
      ],
      "text/plain": [
       "                           brand_id  review_id  avg_rating  \\\n",
       "0  00411460f7c92d2124a67ea0f4cb5f85       2598         5.0   \n",
       "1  00411460f7c92d2124a67ea0f4cb5f85       3718         5.0   \n",
       "2  00411460f7c92d2124a67ea0f4cb5f85       3719         4.0   \n",
       "3  00411460f7c92d2124a67ea0f4cb5f85       2004         5.0   \n",
       "4  00411460f7c92d2124a67ea0f4cb5f85       3717         4.0   \n",
       "\n",
       "   is_product_recommended                                     review_content  \\\n",
       "0                    True  basically stick peanut butter one flavor theyr...   \n",
       "1                    True  carry currently stock selling well much need p...   \n",
       "2                    True  carry whim chocolate havent ordered recently m...   \n",
       "3                    True  good flavor selling fast tried time customer s...   \n",
       "4                    True  still carry whim selling well among flavor pea...   \n",
       "\n",
       "  is_anonymous display_name  rating_packaging  rating_price  rating_quality  \\\n",
       "0        False       Snacks               5.0           5.0             5.0   \n",
       "1         True       Snacks               5.0           5.0             5.0   \n",
       "2         True       Snacks               4.0           4.0             4.0   \n",
       "3        False       Snacks               5.0           5.0             5.0   \n",
       "4         True       Snacks               4.0           4.0             4.0   \n",
       "\n",
       "   rating_service  rating_shipping  rating_taste  sentiment_score  \n",
       "0             5.0              5.0           5.0                1  \n",
       "1             5.0              5.0           5.0                5  \n",
       "2             4.0              4.0           4.0                3  \n",
       "3             5.0              5.0           5.0                4  \n",
       "4             4.0              4.0           4.0                5  "
      ]
     },
     "execution_count": 5,
     "metadata": {},
     "output_type": "execute_result"
    }
   ],
   "source": [
    "df.head()"
   ]
  },
  {
   "cell_type": "code",
   "execution_count": 6,
   "metadata": {},
   "outputs": [
    {
     "name": "stdout",
     "output_type": "stream",
     "text": [
      "Review for brand_id c0c7c76d30bd3dcaefc96f40275bdc0a: shelf taker explaining product different traditional one ni think promotion needed well theyve one thing hasnt sale since product\n",
      "Review for brand_id 66808e327dc79d135ba18e051673d906: one better seller peanut butter flavor popular order distributor well probably keep carrying havent issue know little confusing first changed packaging customer gotten used flavor always good thing also like going unfi im probably going use shipper anymore always problem\n",
      "Review for brand_id 00411460f7c92d2124a67ea0f4cb5f85: basically stick peanut butter one flavor theyre terrible peanut butter one bestseller big bag small bag doesnt matter one sold took little sell peanut butter cup sometimes would get two case every week go fast seller would love get promo price customer complaint sometimes big bag maybe little bit pricey sell 899 maybe cost price could go little bit would appealing\n",
      "Review for brand_id 4f6ffe13a5d75b2d6a3923922b3922e5: recently sale slowed bit past two year carrying nemi proven reliable product initially sold exceptionally well first year half mexican lime stand top flavor choice among customer new jalapeno flavor received positive feedback though enthusiastically original mexican lime\n",
      "Review for brand_id e96ed478dab8595a7dbda4cbcbee168f: great item lot great flavor improvement would packaging doesnt get damaged torn easily\n"
     ]
    }
   ],
   "source": [
    "test_list = [\n",
    "  \"c0c7c76d30bd3dcaefc96f40275bdc0a\",\n",
    "  \"66808e327dc79d135ba18e051673d906\",\n",
    "  \"00411460f7c92d2124a67ea0f4cb5f85\",\n",
    "  \"4f6ffe13a5d75b2d6a3923922b3922e5\",\n",
    "  \"e96ed478dab8595a7dbda4cbcbee168f\"\n",
    "]\n",
    "\n",
    "for brand_to_search in test_list:\n",
    "  review = df.loc[df['brand_id'] == brand_to_search, 'review_content']\n",
    "  if not review.empty:\n",
    "    print(f\"Review for brand_id {brand_to_search}: {review.iloc[0]}\")\n",
    "  else:\n",
    "    print(f\"No review found for brand_id {brand_to_search}.\")"
   ]
  },
  {
   "cell_type": "code",
   "execution_count": 7,
   "metadata": {},
   "outputs": [
    {
     "name": "stdout",
     "output_type": "stream",
     "text": [
      "brand_id                                   00411460f7c92d2124a67ea0f4cb5f85\n",
      "review_id                                                              2598\n",
      "avg_rating                                                              5.0\n",
      "is_product_recommended                                                 True\n",
      "review_content            basically stick peanut butter one flavor theyr...\n",
      "is_anonymous                                                          False\n",
      "display_name                                                         Snacks\n",
      "rating_packaging                                                        5.0\n",
      "rating_price                                                            5.0\n",
      "rating_quality                                                          5.0\n",
      "rating_service                                                          5.0\n",
      "rating_shipping                                                         5.0\n",
      "rating_taste                                                            5.0\n",
      "sentiment_score                                                           1\n",
      "Name: 0, dtype: object\n"
     ]
    }
   ],
   "source": [
    "fake_user_inp = df.iloc[0]\n",
    "print(fake_user_inp)\n",
    "\n",
    "# Generate embedding for the fake user input\n",
    "fake_user_embedding = model.encode(fake_user_inp['review_content'])"
   ]
  },
  {
   "cell_type": "code",
   "execution_count": 8,
   "metadata": {
    "colab": {
     "base_uri": "https://localhost:8080/"
    },
    "id": "GmtaFarHjSTk",
    "outputId": "e3bb6d8e-63a6-439b-9371-ec03d6f8bf3e"
   },
   "outputs": [
    {
     "data": {
      "text/plain": [
       "array([[0.99999994, 0.69182222, 0.57197027, ..., 0.63012702, 0.44221117,\n",
       "        0.6816302 ],\n",
       "       [0.69182222, 0.99999982, 0.63064843, ..., 0.60075488, 0.42163411,\n",
       "        0.65368522],\n",
       "       [0.57197027, 0.63064843, 1.        , ..., 0.4814732 , 0.61457598,\n",
       "        0.45838851],\n",
       "       ...,\n",
       "       [0.63012702, 0.60075488, 0.4814732 , ..., 0.99999991, 0.26457074,\n",
       "        0.74868256],\n",
       "       [0.44221117, 0.42163411, 0.61457598, ..., 0.26457074, 1.        ,\n",
       "        0.3482466 ],\n",
       "       [0.6816302 , 0.65368522, 0.45838851, ..., 0.74868256, 0.3482466 ,\n",
       "        0.99999997]])"
      ]
     },
     "execution_count": 8,
     "metadata": {},
     "output_type": "execute_result"
    }
   ],
   "source": [
    "\n",
    "df_copy = df.copy()\n",
    "# Handle missing values in 'review_content' by filling with an empty string\n",
    "df_copy['review_content'] = df_copy['review_content'].fillna('')\n",
    "\n",
    "# This will return hybrid_similarity matrix\n",
    "df_copy['review_embedding'] = df_copy['review_content'].apply(lambda x: model.encode(x))\n",
    "\n",
    "# Prepare ratings matrix for SVD (pivot table)\n",
    "ratings_matrix = df_copy.pivot_table(index='review_id', columns='brand_id', values='avg_rating').fillna(0)\n",
    "\n",
    "# Apply SVD on the ratings matrix\n",
    "svd = TruncatedSVD(n_components=5)\n",
    "latent_matrix = svd.fit_transform(ratings_matrix)\n",
    "\n",
    "# Cosine similarity on review embeddings\n",
    "embeddings = np.vstack(df_copy['review_embedding'].to_numpy())\n",
    "embedding_similarity = cosine_similarity(embeddings)\n",
    "# Combine SVD and content similarity scores\n",
    "hybrid_similarity = 0.5 * cosine_similarity(latent_matrix) + 0.5 * embedding_similarity\n",
    "hybrid_similarity\n"
   ]
  },
  {
   "cell_type": "code",
   "execution_count": 26,
   "metadata": {},
   "outputs": [],
   "source": [
    "# Generate embedding for the fake user input\n",
    "fake_user_embedding = model.encode(fake_user_inp['review_content'])\n",
    "\n",
    "# Calculate similarity scores between the fake user input and the reviews in the DataFrame\n",
    "fake_user_embedding = fake_user_embedding.reshape(1, -1)\n",
    "embedding_similarity = cosine_similarity(fake_user_embedding, embeddings).flatten()\n",
    "\n",
    "# Assuming hybrid_similarity is already calculated\n",
    "latent_matrix_similarity = hybrid_similarity.mean(axis=0)\n",
    "\n",
    "combined_similarity = 0.5 * latent_matrix_similarity + 0.5 * embedding_similarity"
   ]
  },
  {
   "cell_type": "code",
   "execution_count": 31,
   "metadata": {},
   "outputs": [
    {
     "data": {
      "text/html": [
       "<div>\n",
       "<style scoped>\n",
       "    .dataframe tbody tr th:only-of-type {\n",
       "        vertical-align: middle;\n",
       "    }\n",
       "\n",
       "    .dataframe tbody tr th {\n",
       "        vertical-align: top;\n",
       "    }\n",
       "\n",
       "    .dataframe thead th {\n",
       "        text-align: right;\n",
       "    }\n",
       "</style>\n",
       "<table border=\"1\" class=\"dataframe\">\n",
       "  <thead>\n",
       "    <tr style=\"text-align: right;\">\n",
       "      <th></th>\n",
       "      <th>brand_id</th>\n",
       "      <th>review_id</th>\n",
       "      <th>avg_rating</th>\n",
       "      <th>is_product_recommended</th>\n",
       "      <th>review_content</th>\n",
       "      <th>is_anonymous</th>\n",
       "      <th>display_name</th>\n",
       "      <th>rating_packaging</th>\n",
       "      <th>rating_price</th>\n",
       "      <th>rating_quality</th>\n",
       "      <th>rating_service</th>\n",
       "      <th>rating_shipping</th>\n",
       "      <th>rating_taste</th>\n",
       "      <th>sentiment_score</th>\n",
       "    </tr>\n",
       "  </thead>\n",
       "  <tbody>\n",
       "    <tr>\n",
       "      <th>0</th>\n",
       "      <td>00411460f7c92d2124a67ea0f4cb5f85</td>\n",
       "      <td>2598</td>\n",
       "      <td>5.0</td>\n",
       "      <td>True</td>\n",
       "      <td>basically stick peanut butter one flavor theyr...</td>\n",
       "      <td>False</td>\n",
       "      <td>Snacks</td>\n",
       "      <td>5.0</td>\n",
       "      <td>5.0</td>\n",
       "      <td>5.0</td>\n",
       "      <td>5.0</td>\n",
       "      <td>5.0</td>\n",
       "      <td>5.0</td>\n",
       "      <td>1</td>\n",
       "    </tr>\n",
       "    <tr>\n",
       "      <th>1606</th>\n",
       "      <td>beed13602b9b0e6ecb5b568ff5058f07</td>\n",
       "      <td>1979</td>\n",
       "      <td>5.0</td>\n",
       "      <td>True</td>\n",
       "      <td>people really like know order couple case ever...</td>\n",
       "      <td>False</td>\n",
       "      <td>Non-Alcoholic Beverage</td>\n",
       "      <td>5.0</td>\n",
       "      <td>5.0</td>\n",
       "      <td>5.0</td>\n",
       "      <td>5.0</td>\n",
       "      <td>5.0</td>\n",
       "      <td>5.0</td>\n",
       "      <td>4</td>\n",
       "    </tr>\n",
       "    <tr>\n",
       "      <th>1251</th>\n",
       "      <td>9a1158154dfa42caddbd0694a4e9bdc8</td>\n",
       "      <td>3339</td>\n",
       "      <td>4.0</td>\n",
       "      <td>True</td>\n",
       "      <td>would say hit like lot eat probably half inven...</td>\n",
       "      <td>False</td>\n",
       "      <td>Snacks</td>\n",
       "      <td>4.0</td>\n",
       "      <td>4.0</td>\n",
       "      <td>4.0</td>\n",
       "      <td>4.0</td>\n",
       "      <td>4.0</td>\n",
       "      <td>4.0</td>\n",
       "      <td>1</td>\n",
       "    </tr>\n",
       "    <tr>\n",
       "      <th>882</th>\n",
       "      <td>5ef698cd9fe650923ea331c15af3b160</td>\n",
       "      <td>1630</td>\n",
       "      <td>5.0</td>\n",
       "      <td>True</td>\n",
       "      <td>sell also dont carry ton see customer buying q...</td>\n",
       "      <td>False</td>\n",
       "      <td>Powder &amp; Mixes</td>\n",
       "      <td>5.0</td>\n",
       "      <td>5.0</td>\n",
       "      <td>5.0</td>\n",
       "      <td>5.0</td>\n",
       "      <td>5.0</td>\n",
       "      <td>5.0</td>\n",
       "      <td>3</td>\n",
       "    </tr>\n",
       "    <tr>\n",
       "      <th>1002</th>\n",
       "      <td>7a614fd06c325499f1680b9896beedeb</td>\n",
       "      <td>2155</td>\n",
       "      <td>3.0</td>\n",
       "      <td>True</td>\n",
       "      <td>actually one slowest seller lot trouble moving...</td>\n",
       "      <td>False</td>\n",
       "      <td>Non-Alcoholic Beverage</td>\n",
       "      <td>3.0</td>\n",
       "      <td>3.0</td>\n",
       "      <td>3.0</td>\n",
       "      <td>3.0</td>\n",
       "      <td>3.0</td>\n",
       "      <td>3.0</td>\n",
       "      <td>1</td>\n",
       "    </tr>\n",
       "  </tbody>\n",
       "</table>\n",
       "</div>"
      ],
      "text/plain": [
       "                              brand_id  review_id  avg_rating  \\\n",
       "0     00411460f7c92d2124a67ea0f4cb5f85       2598         5.0   \n",
       "1606  beed13602b9b0e6ecb5b568ff5058f07       1979         5.0   \n",
       "1251  9a1158154dfa42caddbd0694a4e9bdc8       3339         4.0   \n",
       "882   5ef698cd9fe650923ea331c15af3b160       1630         5.0   \n",
       "1002  7a614fd06c325499f1680b9896beedeb       2155         3.0   \n",
       "\n",
       "      is_product_recommended  \\\n",
       "0                       True   \n",
       "1606                    True   \n",
       "1251                    True   \n",
       "882                     True   \n",
       "1002                    True   \n",
       "\n",
       "                                         review_content is_anonymous  \\\n",
       "0     basically stick peanut butter one flavor theyr...        False   \n",
       "1606  people really like know order couple case ever...        False   \n",
       "1251  would say hit like lot eat probably half inven...        False   \n",
       "882   sell also dont carry ton see customer buying q...        False   \n",
       "1002  actually one slowest seller lot trouble moving...        False   \n",
       "\n",
       "                display_name  rating_packaging  rating_price  rating_quality  \\\n",
       "0                     Snacks               5.0           5.0             5.0   \n",
       "1606  Non-Alcoholic Beverage               5.0           5.0             5.0   \n",
       "1251                  Snacks               4.0           4.0             4.0   \n",
       "882           Powder & Mixes               5.0           5.0             5.0   \n",
       "1002  Non-Alcoholic Beverage               3.0           3.0             3.0   \n",
       "\n",
       "      rating_service  rating_shipping  rating_taste  sentiment_score  \n",
       "0                5.0              5.0           5.0                1  \n",
       "1606             5.0              5.0           5.0                4  \n",
       "1251             4.0              4.0           4.0                1  \n",
       "882              5.0              5.0           5.0                3  \n",
       "1002             3.0              3.0           3.0                1  "
      ]
     },
     "execution_count": 31,
     "metadata": {},
     "output_type": "execute_result"
    }
   ],
   "source": [
    "# Generate recommendations based on the similarity scores\n",
    "def recommend_brands_based_on_input(similarity_scores, df, num_recommendations=5):\n",
    "    similar_reviews = list(enumerate(similarity_scores))\n",
    "    similar_reviews = sorted(similar_reviews, key=lambda x: x[1], reverse=True)\n",
    "    \n",
    "    recommended_brands = set()\n",
    "    selected_rows = []\n",
    "\n",
    "    for i in similar_reviews:\n",
    "        brand_id = df.iloc[i[0]]['brand_id']\n",
    "        if brand_id not in recommended_brands:\n",
    "            recommended_brands.add(brand_id)\n",
    "            selected_rows.append(i[0])\n",
    "        if len(recommended_brands) == num_recommendations:\n",
    "            break\n",
    "\n",
    "    filtered_df = df.iloc[selected_rows]\n",
    "    return filtered_df\n",
    "\n",
    "# Get recommendations\n",
    "top_brands_df = recommend_brands_based_on_input(combined_similarity, df, num_recommendations=40)\n",
    "top_brands_df.head()"
   ]
  },
  {
   "cell_type": "code",
   "execution_count": 32,
   "metadata": {
    "colab": {
     "base_uri": "https://localhost:8080/",
     "height": 1000
    },
    "id": "LHh0ZiJ0n6Ar",
    "outputId": "c71a10e4-5097-4c21-e559-d96805da8906"
   },
   "outputs": [],
   "source": [
    "# def recommend_brands(review_index, top_n=10):\n",
    "#     # Get similarity scores for the given review\n",
    "#     similar_reviews = list(enumerate(hybrid_similarity[review_index]))\n",
    "#     print(similar_reviews)\n",
    "#     # Sort by similarity and select top reviews (excluding the review itself)\n",
    "#     similar_reviews = sorted(similar_reviews, key=lambda x: x[1], reverse=True)\n",
    "#     print(similar_reviews)\n",
    "#     recommended_brands = set()\n",
    "#     selected_rows = []\n",
    "\n",
    "#     for i in similar_reviews[1:]:  # Start from index 1 to skip the review itself\n",
    "#         brand_id = df.iloc[i[0]]['brand_id']\n",
    "\n",
    "#         # Add only if brand_id is not yet in recommended_brands\n",
    "#         if brand_id not in recommended_brands:\n",
    "#             recommended_brands.add(brand_id)\n",
    "#             selected_rows.append(i[0])  # Store the index of this row\n",
    "\n",
    "#         # Stop if we've collected enough unique brand IDs\n",
    "#         if len(recommended_brands) == top_n:\n",
    "#             break\n",
    "\n",
    "#     # Filter the DataFrame to only include the selected rows\n",
    "#     filtered_df = df.iloc[selected_rows]\n",
    "\n",
    "#     return filtered_df\n",
    "\n",
    "# # Example: Recommend top 10 brands for the first review (index 0)\n",
    "# top_brands_df = recommend_brands(review_index=0, top_n=40)\n",
    "# top_brands_df.head()\n"
   ]
  },
  {
   "cell_type": "code",
   "execution_count": 33,
   "metadata": {
    "colab": {
     "base_uri": "https://localhost:8080/",
     "height": 554
    },
    "id": "1wPYspdFxpyl",
    "outputId": "b6b2e084-00d1-4835-f59f-0eb7b0ddda54"
   },
   "outputs": [
    {
     "data": {
      "text/plain": [
       "brand_id                  0\n",
       "review_id                 0\n",
       "avg_rating                0\n",
       "is_product_recommended    0\n",
       "review_content            0\n",
       "is_anonymous              1\n",
       "display_name              0\n",
       "rating_packaging          0\n",
       "rating_price              0\n",
       "rating_quality            0\n",
       "rating_service            0\n",
       "rating_shipping           0\n",
       "rating_taste              0\n",
       "sentiment_score           0\n",
       "dtype: int64"
      ]
     },
     "execution_count": 33,
     "metadata": {},
     "output_type": "execute_result"
    }
   ],
   "source": [
    "top_brands_df.isnull().sum()"
   ]
  },
  {
   "cell_type": "code",
   "execution_count": 34,
   "metadata": {
    "colab": {
     "base_uri": "https://localhost:8080/"
    },
    "id": "xXFtbLP13N3V",
    "outputId": "7ecb6185-707e-4d26-b0ae-0dee64cb9bf0"
   },
   "outputs": [
    {
     "name": "stdout",
     "output_type": "stream",
     "text": [
      "40\n"
     ]
    }
   ],
   "source": [
    "num_unique_ids = top_brands_df['brand_id'].nunique()\n",
    "print(num_unique_ids)"
   ]
  },
  {
   "cell_type": "markdown",
   "metadata": {
    "id": "mBVx4Cp4u3VD"
   },
   "source": [
    "# Start Filtering"
   ]
  },
  {
   "cell_type": "markdown",
   "metadata": {
    "id": "b-l2fukSvE3T"
   },
   "source": [
    "## Normalize the ratings types"
   ]
  },
  {
   "cell_type": "code",
   "execution_count": 12,
   "metadata": {
    "id": "1VyJaxZXlgb7"
   },
   "outputs": [],
   "source": [
    "category = \"Snacks\"\n",
    "rating_columns = [\"rating_packaging\", \"rating_price\", \"rating_quality\", \"rating_service\", \"rating_shipping\", \"rating_taste\", \"avg_rating\", \"sentiment_score\"]\n",
    "scaler = MinMaxScaler()\n",
    "df_norm = top_brands_df.copy()\n",
    "df_norm = df_norm[df_norm[\"display_name\"] == \"Snacks\"]\n",
    "df_norm[rating_columns] = scaler.fit_transform(df_norm[rating_columns])"
   ]
  },
  {
   "cell_type": "code",
   "execution_count": 13,
   "metadata": {
    "colab": {
     "base_uri": "https://localhost:8080/"
    },
    "id": "XZRfVgyxsIo8",
    "outputId": "3516824b-985a-4ec3-b0aa-11e6fb1c7ca5"
   },
   "outputs": [
    {
     "name": "stdout",
     "output_type": "stream",
     "text": [
      "10\n"
     ]
    }
   ],
   "source": [
    "num_unique_ids = df_norm['brand_id'].nunique()\n",
    "print(num_unique_ids)"
   ]
  },
  {
   "cell_type": "markdown",
   "metadata": {
    "id": "pEq0U46XvUB8"
   },
   "source": [
    "## Assign weights to rating types (Hard Code for now)"
   ]
  },
  {
   "cell_type": "code",
   "execution_count": 14,
   "metadata": {
    "colab": {
     "base_uri": "https://localhost:8080/"
    },
    "id": "vSmg0rd6vQ9U",
    "outputId": "44e77d0b-bce7-49e2-a86e-61bbc4f33748"
   },
   "outputs": [
    {
     "data": {
      "text/plain": [
       "array([0.70682274, 0.60170271, 0.77066022, 0.96678918, 0.96349508,\n",
       "       0.27436838, 0.74358268])"
      ]
     },
     "execution_count": 14,
     "metadata": {},
     "output_type": "execute_result"
    }
   ],
   "source": [
    "random_weights = random.rand(7)\n",
    "random_weights"
   ]
  },
  {
   "cell_type": "code",
   "execution_count": 15,
   "metadata": {
    "id": "Z_WEEtFKvVcz"
   },
   "outputs": [],
   "source": [
    "weights_map = {\n",
    "    \"rating_packaging\": random_weights[0],\n",
    "    \"rating_price\": random_weights[1],\n",
    "    \"rating_quality\": random_weights[2],\n",
    "    \"rating_service\": random_weights[3],\n",
    "    \"rating_shipping\": random_weights[4],\n",
    "    \"rating_taste\": random_weights[5],\n",
    "    \"avg_rating\": random_weights[6],\n",
    "    \"sentiment_score\": 1.0  # Highest weight assigned to sentiment_score\n",
    "}\n",
    "\n",
    "# NOTE: We would love to handle case where user does not input anything\n",
    "# if len(inp_weight) = 0:\n",
    "#     sort by average_rating\n",
    "# if some specific rating is not filled\n",
    "#     we change the weights_map"
   ]
  },
  {
   "cell_type": "code",
   "execution_count": 16,
   "metadata": {
    "colab": {
     "base_uri": "https://localhost:8080/"
    },
    "id": "PtLgMQJ8vXvr",
    "outputId": "d1057ff5-6f6a-49c7-a0a3-a3f766db7543"
   },
   "outputs": [
    {
     "name": "stdout",
     "output_type": "stream",
     "text": [
      "['rating_packaging', 'rating_price', 'rating_quality', 'rating_service', 'rating_shipping', 'rating_taste', 'avg_rating', 'sentiment_score']\n",
      "[0.7068227433213164, 0.601702711840327, 0.7706602230948462, 0.9667891845149716, 0.9634950812336437, 0.27436838077870207, 0.7435826843441546, 1.0]\n"
     ]
    }
   ],
   "source": [
    "rating_priorities = []\n",
    "weights = []\n",
    "for key in weights_map:\n",
    "    rating_priorities.append(key)\n",
    "    weights.append(weights_map[key])\n",
    "\n",
    "print(rating_priorities)\n",
    "print(weights)"
   ]
  },
  {
   "cell_type": "code",
   "execution_count": 17,
   "metadata": {
    "id": "5pYL6WkivY2D"
   },
   "outputs": [],
   "source": [
    "#Apply weight to the rating type in df\n",
    "weighted_df = df_norm.copy()\n",
    "weighted_df[rating_priorities] = df_norm[rating_priorities].apply(lambda x: x * weights, axis=1)"
   ]
  },
  {
   "cell_type": "code",
   "execution_count": 18,
   "metadata": {
    "colab": {
     "base_uri": "https://localhost:8080/",
     "height": 653
    },
    "id": "f4gYHPbWvaLE",
    "outputId": "91593a13-c971-4cb6-a1b6-559625e00d74"
   },
   "outputs": [
    {
     "data": {
      "text/html": [
       "<div>\n",
       "<style scoped>\n",
       "    .dataframe tbody tr th:only-of-type {\n",
       "        vertical-align: middle;\n",
       "    }\n",
       "\n",
       "    .dataframe tbody tr th {\n",
       "        vertical-align: top;\n",
       "    }\n",
       "\n",
       "    .dataframe thead th {\n",
       "        text-align: right;\n",
       "    }\n",
       "</style>\n",
       "<table border=\"1\" class=\"dataframe\">\n",
       "  <thead>\n",
       "    <tr style=\"text-align: right;\">\n",
       "      <th></th>\n",
       "      <th>brand_id</th>\n",
       "      <th>review_id</th>\n",
       "      <th>avg_rating</th>\n",
       "      <th>is_product_recommended</th>\n",
       "      <th>review_content</th>\n",
       "      <th>is_anonymous</th>\n",
       "      <th>display_name</th>\n",
       "      <th>rating_packaging</th>\n",
       "      <th>rating_price</th>\n",
       "      <th>rating_quality</th>\n",
       "      <th>rating_service</th>\n",
       "      <th>rating_shipping</th>\n",
       "      <th>rating_taste</th>\n",
       "      <th>sentiment_score</th>\n",
       "      <th>review_embedding</th>\n",
       "    </tr>\n",
       "  </thead>\n",
       "  <tbody>\n",
       "    <tr>\n",
       "      <th>1502</th>\n",
       "      <td>bbcbff5c1f1ded46c25d28119a85c6c2</td>\n",
       "      <td>3152</td>\n",
       "      <td>0.371791</td>\n",
       "      <td>True</td>\n",
       "      <td>popular hence sold people love often buy bulk ...</td>\n",
       "      <td>False</td>\n",
       "      <td>Snacks</td>\n",
       "      <td>0.353411</td>\n",
       "      <td>0.300851</td>\n",
       "      <td>0.38533</td>\n",
       "      <td>0.483395</td>\n",
       "      <td>0.481748</td>\n",
       "      <td>0.137184</td>\n",
       "      <td>1.00</td>\n",
       "      <td>[-0.21371414, 0.06628278, -0.023210816, -0.421...</td>\n",
       "    </tr>\n",
       "    <tr>\n",
       "      <th>954</th>\n",
       "      <td>69cb3ea317a32c4e6143e665fdb20b14</td>\n",
       "      <td>2782</td>\n",
       "      <td>0.371791</td>\n",
       "      <td>True</td>\n",
       "      <td>people love taste packaging really cool funky ...</td>\n",
       "      <td>False</td>\n",
       "      <td>Snacks</td>\n",
       "      <td>0.353411</td>\n",
       "      <td>0.300851</td>\n",
       "      <td>0.38533</td>\n",
       "      <td>0.483395</td>\n",
       "      <td>0.481748</td>\n",
       "      <td>0.137184</td>\n",
       "      <td>0.75</td>\n",
       "      <td>[-0.3612504, -0.35247555, -0.15716112, -0.0831...</td>\n",
       "    </tr>\n",
       "    <tr>\n",
       "      <th>1956</th>\n",
       "      <td>f8c1f23d6a8d8d7904fc0ea8e066b3bb</td>\n",
       "      <td>3171</td>\n",
       "      <td>0.000000</td>\n",
       "      <td>True</td>\n",
       "      <td>think sale werent high enough decided start se...</td>\n",
       "      <td>True</td>\n",
       "      <td>Snacks</td>\n",
       "      <td>0.000000</td>\n",
       "      <td>0.000000</td>\n",
       "      <td>0.00000</td>\n",
       "      <td>0.000000</td>\n",
       "      <td>0.000000</td>\n",
       "      <td>0.000000</td>\n",
       "      <td>0.00</td>\n",
       "      <td>[0.031356554, -0.36868742, -0.1400484, -0.2579...</td>\n",
       "    </tr>\n",
       "    <tr>\n",
       "      <th>1658</th>\n",
       "      <td>c7e1249ffc03eb9ded908c236bd1996d</td>\n",
       "      <td>2962</td>\n",
       "      <td>0.743583</td>\n",
       "      <td>True</td>\n",
       "      <td>selling moving pretty well first got much thin...</td>\n",
       "      <td>False</td>\n",
       "      <td>Snacks</td>\n",
       "      <td>0.706823</td>\n",
       "      <td>0.601703</td>\n",
       "      <td>0.77066</td>\n",
       "      <td>0.966789</td>\n",
       "      <td>0.963495</td>\n",
       "      <td>0.274368</td>\n",
       "      <td>0.50</td>\n",
       "      <td>[-0.30708426, -0.73055637, -0.2741928, -0.2398...</td>\n",
       "    </tr>\n",
       "    <tr>\n",
       "      <th>1344</th>\n",
       "      <td>a01a0380ca3c61428c26a231f0e49a09</td>\n",
       "      <td>1922</td>\n",
       "      <td>0.371791</td>\n",
       "      <td>True</td>\n",
       "      <td>label price fine last 30 day weve sold twelve ...</td>\n",
       "      <td>False</td>\n",
       "      <td>Snacks</td>\n",
       "      <td>0.353411</td>\n",
       "      <td>0.300851</td>\n",
       "      <td>0.38533</td>\n",
       "      <td>0.483395</td>\n",
       "      <td>0.481748</td>\n",
       "      <td>0.137184</td>\n",
       "      <td>0.75</td>\n",
       "      <td>[-0.42296505, 0.0075865746, -0.20753312, 0.198...</td>\n",
       "    </tr>\n",
       "    <tr>\n",
       "      <th>719</th>\n",
       "      <td>4f6ffe13a5d75b2d6a3923922b3922e5</td>\n",
       "      <td>2924</td>\n",
       "      <td>0.743583</td>\n",
       "      <td>True</td>\n",
       "      <td>like sell reorder everything good since still ...</td>\n",
       "      <td>False</td>\n",
       "      <td>Snacks</td>\n",
       "      <td>0.706823</td>\n",
       "      <td>0.601703</td>\n",
       "      <td>0.77066</td>\n",
       "      <td>0.966789</td>\n",
       "      <td>0.963495</td>\n",
       "      <td>0.274368</td>\n",
       "      <td>1.00</td>\n",
       "      <td>[-0.31779307, -0.18992049, -0.039039858, -0.22...</td>\n",
       "    </tr>\n",
       "    <tr>\n",
       "      <th>1643</th>\n",
       "      <td>c3e878e27f52e2a57ace4d9a76fd9acf</td>\n",
       "      <td>1877</td>\n",
       "      <td>0.371791</td>\n",
       "      <td>True</td>\n",
       "      <td>great expired frozen popsicle stick think pric...</td>\n",
       "      <td>False</td>\n",
       "      <td>Snacks</td>\n",
       "      <td>0.353411</td>\n",
       "      <td>0.300851</td>\n",
       "      <td>0.38533</td>\n",
       "      <td>0.483395</td>\n",
       "      <td>0.481748</td>\n",
       "      <td>0.137184</td>\n",
       "      <td>1.00</td>\n",
       "      <td>[-0.5850852, 0.108858824, -0.07353058, -0.1312...</td>\n",
       "    </tr>\n",
       "    <tr>\n",
       "      <th>1</th>\n",
       "      <td>00411460f7c92d2124a67ea0f4cb5f85</td>\n",
       "      <td>3718</td>\n",
       "      <td>0.743583</td>\n",
       "      <td>True</td>\n",
       "      <td>carry currently stock selling well much need p...</td>\n",
       "      <td>True</td>\n",
       "      <td>Snacks</td>\n",
       "      <td>0.706823</td>\n",
       "      <td>0.601703</td>\n",
       "      <td>0.77066</td>\n",
       "      <td>0.966789</td>\n",
       "      <td>0.963495</td>\n",
       "      <td>0.274368</td>\n",
       "      <td>1.00</td>\n",
       "      <td>[-0.5571632, -0.14720765, -0.33407348, -0.0394...</td>\n",
       "    </tr>\n",
       "    <tr>\n",
       "      <th>697</th>\n",
       "      <td>4c56ff4ce4aaf9573aa5dff913df997a</td>\n",
       "      <td>2820</td>\n",
       "      <td>0.743583</td>\n",
       "      <td>True</td>\n",
       "      <td>trouble thing freezer nature shop dont glass d...</td>\n",
       "      <td>False</td>\n",
       "      <td>Snacks</td>\n",
       "      <td>0.706823</td>\n",
       "      <td>0.601703</td>\n",
       "      <td>0.77066</td>\n",
       "      <td>0.966789</td>\n",
       "      <td>0.963495</td>\n",
       "      <td>0.274368</td>\n",
       "      <td>0.00</td>\n",
       "      <td>[-0.24465466, 0.20265263, -0.079341084, 0.1308...</td>\n",
       "    </tr>\n",
       "    <tr>\n",
       "      <th>116</th>\n",
       "      <td>06409663226af2f3114485aa4e0a23b4</td>\n",
       "      <td>3424</td>\n",
       "      <td>0.000000</td>\n",
       "      <td>True</td>\n",
       "      <td>karma cashew dont sell quickly stock one varie...</td>\n",
       "      <td>False</td>\n",
       "      <td>Snacks</td>\n",
       "      <td>0.000000</td>\n",
       "      <td>0.000000</td>\n",
       "      <td>0.00000</td>\n",
       "      <td>0.000000</td>\n",
       "      <td>0.000000</td>\n",
       "      <td>0.000000</td>\n",
       "      <td>0.25</td>\n",
       "      <td>[0.112255506, 0.25204742, -0.10517745, -0.6170...</td>\n",
       "    </tr>\n",
       "  </tbody>\n",
       "</table>\n",
       "</div>"
      ],
      "text/plain": [
       "                              brand_id  review_id  avg_rating  \\\n",
       "1502  bbcbff5c1f1ded46c25d28119a85c6c2       3152    0.371791   \n",
       "954   69cb3ea317a32c4e6143e665fdb20b14       2782    0.371791   \n",
       "1956  f8c1f23d6a8d8d7904fc0ea8e066b3bb       3171    0.000000   \n",
       "1658  c7e1249ffc03eb9ded908c236bd1996d       2962    0.743583   \n",
       "1344  a01a0380ca3c61428c26a231f0e49a09       1922    0.371791   \n",
       "719   4f6ffe13a5d75b2d6a3923922b3922e5       2924    0.743583   \n",
       "1643  c3e878e27f52e2a57ace4d9a76fd9acf       1877    0.371791   \n",
       "1     00411460f7c92d2124a67ea0f4cb5f85       3718    0.743583   \n",
       "697   4c56ff4ce4aaf9573aa5dff913df997a       2820    0.743583   \n",
       "116   06409663226af2f3114485aa4e0a23b4       3424    0.000000   \n",
       "\n",
       "      is_product_recommended  \\\n",
       "1502                    True   \n",
       "954                     True   \n",
       "1956                    True   \n",
       "1658                    True   \n",
       "1344                    True   \n",
       "719                     True   \n",
       "1643                    True   \n",
       "1                       True   \n",
       "697                     True   \n",
       "116                     True   \n",
       "\n",
       "                                         review_content is_anonymous  \\\n",
       "1502  popular hence sold people love often buy bulk ...        False   \n",
       "954   people love taste packaging really cool funky ...        False   \n",
       "1956  think sale werent high enough decided start se...         True   \n",
       "1658  selling moving pretty well first got much thin...        False   \n",
       "1344  label price fine last 30 day weve sold twelve ...        False   \n",
       "719   like sell reorder everything good since still ...        False   \n",
       "1643  great expired frozen popsicle stick think pric...        False   \n",
       "1     carry currently stock selling well much need p...         True   \n",
       "697   trouble thing freezer nature shop dont glass d...        False   \n",
       "116   karma cashew dont sell quickly stock one varie...        False   \n",
       "\n",
       "     display_name  rating_packaging  rating_price  rating_quality  \\\n",
       "1502       Snacks          0.353411      0.300851         0.38533   \n",
       "954        Snacks          0.353411      0.300851         0.38533   \n",
       "1956       Snacks          0.000000      0.000000         0.00000   \n",
       "1658       Snacks          0.706823      0.601703         0.77066   \n",
       "1344       Snacks          0.353411      0.300851         0.38533   \n",
       "719        Snacks          0.706823      0.601703         0.77066   \n",
       "1643       Snacks          0.353411      0.300851         0.38533   \n",
       "1          Snacks          0.706823      0.601703         0.77066   \n",
       "697        Snacks          0.706823      0.601703         0.77066   \n",
       "116        Snacks          0.000000      0.000000         0.00000   \n",
       "\n",
       "      rating_service  rating_shipping  rating_taste  sentiment_score  \\\n",
       "1502        0.483395         0.481748      0.137184             1.00   \n",
       "954         0.483395         0.481748      0.137184             0.75   \n",
       "1956        0.000000         0.000000      0.000000             0.00   \n",
       "1658        0.966789         0.963495      0.274368             0.50   \n",
       "1344        0.483395         0.481748      0.137184             0.75   \n",
       "719         0.966789         0.963495      0.274368             1.00   \n",
       "1643        0.483395         0.481748      0.137184             1.00   \n",
       "1           0.966789         0.963495      0.274368             1.00   \n",
       "697         0.966789         0.963495      0.274368             0.00   \n",
       "116         0.000000         0.000000      0.000000             0.25   \n",
       "\n",
       "                                       review_embedding  \n",
       "1502  [-0.21371414, 0.06628278, -0.023210816, -0.421...  \n",
       "954   [-0.3612504, -0.35247555, -0.15716112, -0.0831...  \n",
       "1956  [0.031356554, -0.36868742, -0.1400484, -0.2579...  \n",
       "1658  [-0.30708426, -0.73055637, -0.2741928, -0.2398...  \n",
       "1344  [-0.42296505, 0.0075865746, -0.20753312, 0.198...  \n",
       "719   [-0.31779307, -0.18992049, -0.039039858, -0.22...  \n",
       "1643  [-0.5850852, 0.108858824, -0.07353058, -0.1312...  \n",
       "1     [-0.5571632, -0.14720765, -0.33407348, -0.0394...  \n",
       "697   [-0.24465466, 0.20265263, -0.079341084, 0.1308...  \n",
       "116   [0.112255506, 0.25204742, -0.10517745, -0.6170...  "
      ]
     },
     "execution_count": 18,
     "metadata": {},
     "output_type": "execute_result"
    }
   ],
   "source": [
    "weighted_df"
   ]
  },
  {
   "cell_type": "markdown",
   "metadata": {
    "id": "UgrnYGB7vdHX"
   },
   "source": [
    "## Find ideal and worst score"
   ]
  },
  {
   "cell_type": "code",
   "execution_count": 19,
   "metadata": {
    "id": "xiMviDsRvbLc"
   },
   "outputs": [],
   "source": [
    "ideal_score = weighted_df[rating_priorities].max(axis=0)\n",
    "negative_score = weighted_df[rating_priorities].min(axis=0)"
   ]
  },
  {
   "cell_type": "code",
   "execution_count": 20,
   "metadata": {
    "colab": {
     "base_uri": "https://localhost:8080/"
    },
    "id": "cvLmZksuyeGj",
    "outputId": "1f64f89e-15e4-47da-87b0-2de18e4a977e"
   },
   "outputs": [
    {
     "data": {
      "text/plain": [
       "array([0.70682274, 0.60170271, 0.77066022, 0.96678918, 0.96349508,\n",
       "       0.27436838, 0.74358268])"
      ]
     },
     "execution_count": 20,
     "metadata": {},
     "output_type": "execute_result"
    }
   ],
   "source": [
    "random_weights"
   ]
  },
  {
   "cell_type": "code",
   "execution_count": 21,
   "metadata": {
    "colab": {
     "base_uri": "https://localhost:8080/",
     "height": 335
    },
    "id": "uXvwSOejvedk",
    "outputId": "8f57d1f6-0f68-49b7-cf14-a80a69aabb6d"
   },
   "outputs": [
    {
     "data": {
      "text/plain": [
       "rating_packaging    0.706823\n",
       "rating_price        0.601703\n",
       "rating_quality      0.770660\n",
       "rating_service      0.966789\n",
       "rating_shipping     0.963495\n",
       "rating_taste        0.274368\n",
       "avg_rating          0.743583\n",
       "sentiment_score     1.000000\n",
       "dtype: float64"
      ]
     },
     "execution_count": 21,
     "metadata": {},
     "output_type": "execute_result"
    }
   ],
   "source": [
    "ideal_score"
   ]
  },
  {
   "cell_type": "code",
   "execution_count": 22,
   "metadata": {
    "colab": {
     "base_uri": "https://localhost:8080/",
     "height": 335
    },
    "id": "nMOaqXBVvfer",
    "outputId": "98410840-785a-4118-ca34-b1425639f817"
   },
   "outputs": [
    {
     "data": {
      "text/plain": [
       "rating_packaging    0.0\n",
       "rating_price        0.0\n",
       "rating_quality      0.0\n",
       "rating_service      0.0\n",
       "rating_shipping     0.0\n",
       "rating_taste        0.0\n",
       "avg_rating          0.0\n",
       "sentiment_score     0.0\n",
       "dtype: float64"
      ]
     },
     "execution_count": 22,
     "metadata": {},
     "output_type": "execute_result"
    }
   ],
   "source": [
    "negative_score"
   ]
  },
  {
   "cell_type": "code",
   "execution_count": 23,
   "metadata": {
    "id": "UXdqSoEYz9s0"
   },
   "outputs": [],
   "source": [
    "# Check if each column in rating_priorities contains any zeros\n",
    "# zero_counts = (weighted_df[rating_priorities] == 0).sum()\n",
    "# print(\"Count of zeros in each column:\")\n",
    "# print(zero_counts)\n",
    "\n",
    "# # Alternatively, print minimum values directly to confirm\n",
    "# print(\"Minimum values in each column:\")\n",
    "# print(weighted_df[rating_priorities].min(axis=0))"
   ]
  },
  {
   "cell_type": "code",
   "execution_count": 24,
   "metadata": {
    "id": "RG-OzsRA0M-N"
   },
   "outputs": [],
   "source": [
    "# Display rows where any of the columns in rating_priorities have a 0\n",
    "# rows_with_zeros = weighted_df[(weighted_df[rating_priorities] == 0).any(axis=1)]\n",
    "\n",
    "# print(\"Rows with at least one 0 in rating_priorities columns:\")\n",
    "# print(rows_with_zeros)"
   ]
  },
  {
   "cell_type": "markdown",
   "metadata": {
    "id": "VndVuq7VvmT5"
   },
   "source": [
    "## Calculate Euclidean Distances"
   ]
  },
  {
   "cell_type": "code",
   "execution_count": 25,
   "metadata": {
    "colab": {
     "base_uri": "https://localhost:8080/",
     "height": 269
    },
    "id": "nM48EiCXz9TX",
    "outputId": "8ee00f8f-5c93-45aa-e1bd-251074adb7e6"
   },
   "outputs": [
    {
     "data": {
      "text/html": [
       "<div>\n",
       "<style scoped>\n",
       "    .dataframe tbody tr th:only-of-type {\n",
       "        vertical-align: middle;\n",
       "    }\n",
       "\n",
       "    .dataframe tbody tr th {\n",
       "        vertical-align: top;\n",
       "    }\n",
       "\n",
       "    .dataframe thead th {\n",
       "        text-align: right;\n",
       "    }\n",
       "</style>\n",
       "<table border=\"1\" class=\"dataframe\">\n",
       "  <thead>\n",
       "    <tr style=\"text-align: right;\">\n",
       "      <th></th>\n",
       "      <th>rating_packaging</th>\n",
       "      <th>rating_price</th>\n",
       "      <th>rating_quality</th>\n",
       "      <th>rating_service</th>\n",
       "      <th>rating_shipping</th>\n",
       "      <th>rating_taste</th>\n",
       "      <th>avg_rating</th>\n",
       "      <th>sentiment_score</th>\n",
       "    </tr>\n",
       "  </thead>\n",
       "  <tbody>\n",
       "    <tr>\n",
       "      <th>1502</th>\n",
       "      <td>0.353411</td>\n",
       "      <td>0.300851</td>\n",
       "      <td>0.38533</td>\n",
       "      <td>0.483395</td>\n",
       "      <td>0.481748</td>\n",
       "      <td>0.137184</td>\n",
       "      <td>0.371791</td>\n",
       "      <td>1.00</td>\n",
       "    </tr>\n",
       "    <tr>\n",
       "      <th>954</th>\n",
       "      <td>0.353411</td>\n",
       "      <td>0.300851</td>\n",
       "      <td>0.38533</td>\n",
       "      <td>0.483395</td>\n",
       "      <td>0.481748</td>\n",
       "      <td>0.137184</td>\n",
       "      <td>0.371791</td>\n",
       "      <td>0.75</td>\n",
       "    </tr>\n",
       "    <tr>\n",
       "      <th>1956</th>\n",
       "      <td>0.000000</td>\n",
       "      <td>0.000000</td>\n",
       "      <td>0.00000</td>\n",
       "      <td>0.000000</td>\n",
       "      <td>0.000000</td>\n",
       "      <td>0.000000</td>\n",
       "      <td>0.000000</td>\n",
       "      <td>0.00</td>\n",
       "    </tr>\n",
       "    <tr>\n",
       "      <th>1658</th>\n",
       "      <td>0.706823</td>\n",
       "      <td>0.601703</td>\n",
       "      <td>0.77066</td>\n",
       "      <td>0.966789</td>\n",
       "      <td>0.963495</td>\n",
       "      <td>0.274368</td>\n",
       "      <td>0.743583</td>\n",
       "      <td>0.50</td>\n",
       "    </tr>\n",
       "    <tr>\n",
       "      <th>1344</th>\n",
       "      <td>0.353411</td>\n",
       "      <td>0.300851</td>\n",
       "      <td>0.38533</td>\n",
       "      <td>0.483395</td>\n",
       "      <td>0.481748</td>\n",
       "      <td>0.137184</td>\n",
       "      <td>0.371791</td>\n",
       "      <td>0.75</td>\n",
       "    </tr>\n",
       "    <tr>\n",
       "      <th>719</th>\n",
       "      <td>0.706823</td>\n",
       "      <td>0.601703</td>\n",
       "      <td>0.77066</td>\n",
       "      <td>0.966789</td>\n",
       "      <td>0.963495</td>\n",
       "      <td>0.274368</td>\n",
       "      <td>0.743583</td>\n",
       "      <td>1.00</td>\n",
       "    </tr>\n",
       "    <tr>\n",
       "      <th>1643</th>\n",
       "      <td>0.353411</td>\n",
       "      <td>0.300851</td>\n",
       "      <td>0.38533</td>\n",
       "      <td>0.483395</td>\n",
       "      <td>0.481748</td>\n",
       "      <td>0.137184</td>\n",
       "      <td>0.371791</td>\n",
       "      <td>1.00</td>\n",
       "    </tr>\n",
       "    <tr>\n",
       "      <th>1</th>\n",
       "      <td>0.706823</td>\n",
       "      <td>0.601703</td>\n",
       "      <td>0.77066</td>\n",
       "      <td>0.966789</td>\n",
       "      <td>0.963495</td>\n",
       "      <td>0.274368</td>\n",
       "      <td>0.743583</td>\n",
       "      <td>1.00</td>\n",
       "    </tr>\n",
       "    <tr>\n",
       "      <th>697</th>\n",
       "      <td>0.706823</td>\n",
       "      <td>0.601703</td>\n",
       "      <td>0.77066</td>\n",
       "      <td>0.966789</td>\n",
       "      <td>0.963495</td>\n",
       "      <td>0.274368</td>\n",
       "      <td>0.743583</td>\n",
       "      <td>0.00</td>\n",
       "    </tr>\n",
       "    <tr>\n",
       "      <th>116</th>\n",
       "      <td>0.000000</td>\n",
       "      <td>0.000000</td>\n",
       "      <td>0.00000</td>\n",
       "      <td>0.000000</td>\n",
       "      <td>0.000000</td>\n",
       "      <td>0.000000</td>\n",
       "      <td>0.000000</td>\n",
       "      <td>0.25</td>\n",
       "    </tr>\n",
       "  </tbody>\n",
       "</table>\n",
       "</div>"
      ],
      "text/plain": [
       "      rating_packaging  rating_price  rating_quality  rating_service  \\\n",
       "1502          0.353411      0.300851         0.38533        0.483395   \n",
       "954           0.353411      0.300851         0.38533        0.483395   \n",
       "1956          0.000000      0.000000         0.00000        0.000000   \n",
       "1658          0.706823      0.601703         0.77066        0.966789   \n",
       "1344          0.353411      0.300851         0.38533        0.483395   \n",
       "719           0.706823      0.601703         0.77066        0.966789   \n",
       "1643          0.353411      0.300851         0.38533        0.483395   \n",
       "1             0.706823      0.601703         0.77066        0.966789   \n",
       "697           0.706823      0.601703         0.77066        0.966789   \n",
       "116           0.000000      0.000000         0.00000        0.000000   \n",
       "\n",
       "      rating_shipping  rating_taste  avg_rating  sentiment_score  \n",
       "1502         0.481748      0.137184    0.371791             1.00  \n",
       "954          0.481748      0.137184    0.371791             0.75  \n",
       "1956         0.000000      0.000000    0.000000             0.00  \n",
       "1658         0.963495      0.274368    0.743583             0.50  \n",
       "1344         0.481748      0.137184    0.371791             0.75  \n",
       "719          0.963495      0.274368    0.743583             1.00  \n",
       "1643         0.481748      0.137184    0.371791             1.00  \n",
       "1            0.963495      0.274368    0.743583             1.00  \n",
       "697          0.963495      0.274368    0.743583             0.00  \n",
       "116          0.000000      0.000000    0.000000             0.25  "
      ]
     },
     "execution_count": 25,
     "metadata": {},
     "output_type": "execute_result"
    }
   ],
   "source": [
    "weighted_rating_matrix = weighted_df[rating_priorities]\n",
    "weighted_rating_matrix"
   ]
  },
  {
   "cell_type": "code",
   "execution_count": 26,
   "metadata": {
    "colab": {
     "base_uri": "https://localhost:8080/",
     "height": 303
    },
    "id": "YVb5yzTYvgwb",
    "outputId": "8d0792b1-f925-4091-816d-5f5554155fbf"
   },
   "outputs": [
    {
     "data": {
      "text/plain": [
       "1502    2.513711\n",
       "954     2.763711\n",
       "1956    6.027421\n",
       "1658    0.500000\n",
       "1344    2.763711\n",
       "719     0.000000\n",
       "1643    2.513711\n",
       "1       0.000000\n",
       "697     1.000000\n",
       "116     5.777421\n",
       "dtype: float64"
      ]
     },
     "execution_count": 26,
     "metadata": {},
     "output_type": "execute_result"
    }
   ],
   "source": [
    "distance_to_ideal_solution = np.sqrt((weighted_rating_matrix - ideal_score)**2).sum(axis=1)\n",
    "distance_to_ideal_solution"
   ]
  },
  {
   "cell_type": "code",
   "execution_count": 27,
   "metadata": {
    "colab": {
     "base_uri": "https://localhost:8080/",
     "height": 303
    },
    "id": "ayhCv6om0m39",
    "outputId": "8ed4b80f-1486-4670-ced8-e1f23b3e0564"
   },
   "outputs": [
    {
     "data": {
      "text/plain": [
       "1502    3.513711\n",
       "954     3.263711\n",
       "1956    0.000000\n",
       "1658    5.527421\n",
       "1344    3.263711\n",
       "719     6.027421\n",
       "1643    3.513711\n",
       "1       6.027421\n",
       "697     5.027421\n",
       "116     0.250000\n",
       "dtype: float64"
      ]
     },
     "execution_count": 27,
     "metadata": {},
     "output_type": "execute_result"
    }
   ],
   "source": [
    "distance_to_worst_solution = np.sqrt((weighted_rating_matrix - negative_score)**2).sum(axis=1)\n",
    "distance_to_worst_solution"
   ]
  },
  {
   "cell_type": "markdown",
   "metadata": {
    "id": "xxn8TvWh0qI9"
   },
   "source": [
    "## Calculate Similarity Score"
   ]
  },
  {
   "cell_type": "code",
   "execution_count": 28,
   "metadata": {
    "id": "msQUJGn40oPt"
   },
   "outputs": [],
   "source": [
    "df_with_similarity_score = weighted_df.copy()"
   ]
  },
  {
   "cell_type": "code",
   "execution_count": 29,
   "metadata": {
    "id": "6Ag2nMwj0rjE"
   },
   "outputs": [],
   "source": [
    "similarity_scores = distance_to_worst_solution / (distance_to_ideal_solution + distance_to_worst_solution)\n",
    "df_with_similarity_score[\"similarity_score\"] = similarity_scores"
   ]
  },
  {
   "cell_type": "code",
   "execution_count": 30,
   "metadata": {
    "colab": {
     "base_uri": "https://localhost:8080/",
     "height": 486
    },
    "id": "hIxMWT490u88",
    "outputId": "a6db214d-da8e-4af2-dd97-f5345b91b4ea"
   },
   "outputs": [
    {
     "data": {
      "text/html": [
       "<div>\n",
       "<style scoped>\n",
       "    .dataframe tbody tr th:only-of-type {\n",
       "        vertical-align: middle;\n",
       "    }\n",
       "\n",
       "    .dataframe tbody tr th {\n",
       "        vertical-align: top;\n",
       "    }\n",
       "\n",
       "    .dataframe thead th {\n",
       "        text-align: right;\n",
       "    }\n",
       "</style>\n",
       "<table border=\"1\" class=\"dataframe\">\n",
       "  <thead>\n",
       "    <tr style=\"text-align: right;\">\n",
       "      <th></th>\n",
       "      <th>brand_id</th>\n",
       "      <th>review_id</th>\n",
       "      <th>avg_rating</th>\n",
       "      <th>is_product_recommended</th>\n",
       "      <th>review_content</th>\n",
       "      <th>is_anonymous</th>\n",
       "      <th>display_name</th>\n",
       "      <th>rating_packaging</th>\n",
       "      <th>rating_price</th>\n",
       "      <th>rating_quality</th>\n",
       "      <th>rating_service</th>\n",
       "      <th>rating_shipping</th>\n",
       "      <th>rating_taste</th>\n",
       "      <th>sentiment_score</th>\n",
       "      <th>review_embedding</th>\n",
       "      <th>similarity_score</th>\n",
       "    </tr>\n",
       "  </thead>\n",
       "  <tbody>\n",
       "    <tr>\n",
       "      <th>1502</th>\n",
       "      <td>bbcbff5c1f1ded46c25d28119a85c6c2</td>\n",
       "      <td>3152</td>\n",
       "      <td>0.371791</td>\n",
       "      <td>True</td>\n",
       "      <td>popular hence sold people love often buy bulk ...</td>\n",
       "      <td>False</td>\n",
       "      <td>Snacks</td>\n",
       "      <td>0.353411</td>\n",
       "      <td>0.300851</td>\n",
       "      <td>0.38533</td>\n",
       "      <td>0.483395</td>\n",
       "      <td>0.481748</td>\n",
       "      <td>0.137184</td>\n",
       "      <td>1.00</td>\n",
       "      <td>[-0.21371414, 0.06628278, -0.023210816, -0.421...</td>\n",
       "      <td>0.582954</td>\n",
       "    </tr>\n",
       "    <tr>\n",
       "      <th>954</th>\n",
       "      <td>69cb3ea317a32c4e6143e665fdb20b14</td>\n",
       "      <td>2782</td>\n",
       "      <td>0.371791</td>\n",
       "      <td>True</td>\n",
       "      <td>people love taste packaging really cool funky ...</td>\n",
       "      <td>False</td>\n",
       "      <td>Snacks</td>\n",
       "      <td>0.353411</td>\n",
       "      <td>0.300851</td>\n",
       "      <td>0.38533</td>\n",
       "      <td>0.483395</td>\n",
       "      <td>0.481748</td>\n",
       "      <td>0.137184</td>\n",
       "      <td>0.75</td>\n",
       "      <td>[-0.3612504, -0.35247555, -0.15716112, -0.0831...</td>\n",
       "      <td>0.541477</td>\n",
       "    </tr>\n",
       "    <tr>\n",
       "      <th>1956</th>\n",
       "      <td>f8c1f23d6a8d8d7904fc0ea8e066b3bb</td>\n",
       "      <td>3171</td>\n",
       "      <td>0.000000</td>\n",
       "      <td>True</td>\n",
       "      <td>think sale werent high enough decided start se...</td>\n",
       "      <td>True</td>\n",
       "      <td>Snacks</td>\n",
       "      <td>0.000000</td>\n",
       "      <td>0.000000</td>\n",
       "      <td>0.00000</td>\n",
       "      <td>0.000000</td>\n",
       "      <td>0.000000</td>\n",
       "      <td>0.000000</td>\n",
       "      <td>0.00</td>\n",
       "      <td>[0.031356554, -0.36868742, -0.1400484, -0.2579...</td>\n",
       "      <td>0.000000</td>\n",
       "    </tr>\n",
       "    <tr>\n",
       "      <th>1658</th>\n",
       "      <td>c7e1249ffc03eb9ded908c236bd1996d</td>\n",
       "      <td>2962</td>\n",
       "      <td>0.743583</td>\n",
       "      <td>True</td>\n",
       "      <td>selling moving pretty well first got much thin...</td>\n",
       "      <td>False</td>\n",
       "      <td>Snacks</td>\n",
       "      <td>0.706823</td>\n",
       "      <td>0.601703</td>\n",
       "      <td>0.77066</td>\n",
       "      <td>0.966789</td>\n",
       "      <td>0.963495</td>\n",
       "      <td>0.274368</td>\n",
       "      <td>0.50</td>\n",
       "      <td>[-0.30708426, -0.73055637, -0.2741928, -0.2398...</td>\n",
       "      <td>0.917046</td>\n",
       "    </tr>\n",
       "    <tr>\n",
       "      <th>1344</th>\n",
       "      <td>a01a0380ca3c61428c26a231f0e49a09</td>\n",
       "      <td>1922</td>\n",
       "      <td>0.371791</td>\n",
       "      <td>True</td>\n",
       "      <td>label price fine last 30 day weve sold twelve ...</td>\n",
       "      <td>False</td>\n",
       "      <td>Snacks</td>\n",
       "      <td>0.353411</td>\n",
       "      <td>0.300851</td>\n",
       "      <td>0.38533</td>\n",
       "      <td>0.483395</td>\n",
       "      <td>0.481748</td>\n",
       "      <td>0.137184</td>\n",
       "      <td>0.75</td>\n",
       "      <td>[-0.42296505, 0.0075865746, -0.20753312, 0.198...</td>\n",
       "      <td>0.541477</td>\n",
       "    </tr>\n",
       "  </tbody>\n",
       "</table>\n",
       "</div>"
      ],
      "text/plain": [
       "                              brand_id  review_id  avg_rating  \\\n",
       "1502  bbcbff5c1f1ded46c25d28119a85c6c2       3152    0.371791   \n",
       "954   69cb3ea317a32c4e6143e665fdb20b14       2782    0.371791   \n",
       "1956  f8c1f23d6a8d8d7904fc0ea8e066b3bb       3171    0.000000   \n",
       "1658  c7e1249ffc03eb9ded908c236bd1996d       2962    0.743583   \n",
       "1344  a01a0380ca3c61428c26a231f0e49a09       1922    0.371791   \n",
       "\n",
       "      is_product_recommended  \\\n",
       "1502                    True   \n",
       "954                     True   \n",
       "1956                    True   \n",
       "1658                    True   \n",
       "1344                    True   \n",
       "\n",
       "                                         review_content is_anonymous  \\\n",
       "1502  popular hence sold people love often buy bulk ...        False   \n",
       "954   people love taste packaging really cool funky ...        False   \n",
       "1956  think sale werent high enough decided start se...         True   \n",
       "1658  selling moving pretty well first got much thin...        False   \n",
       "1344  label price fine last 30 day weve sold twelve ...        False   \n",
       "\n",
       "     display_name  rating_packaging  rating_price  rating_quality  \\\n",
       "1502       Snacks          0.353411      0.300851         0.38533   \n",
       "954        Snacks          0.353411      0.300851         0.38533   \n",
       "1956       Snacks          0.000000      0.000000         0.00000   \n",
       "1658       Snacks          0.706823      0.601703         0.77066   \n",
       "1344       Snacks          0.353411      0.300851         0.38533   \n",
       "\n",
       "      rating_service  rating_shipping  rating_taste  sentiment_score  \\\n",
       "1502        0.483395         0.481748      0.137184             1.00   \n",
       "954         0.483395         0.481748      0.137184             0.75   \n",
       "1956        0.000000         0.000000      0.000000             0.00   \n",
       "1658        0.966789         0.963495      0.274368             0.50   \n",
       "1344        0.483395         0.481748      0.137184             0.75   \n",
       "\n",
       "                                       review_embedding  similarity_score  \n",
       "1502  [-0.21371414, 0.06628278, -0.023210816, -0.421...          0.582954  \n",
       "954   [-0.3612504, -0.35247555, -0.15716112, -0.0831...          0.541477  \n",
       "1956  [0.031356554, -0.36868742, -0.1400484, -0.2579...          0.000000  \n",
       "1658  [-0.30708426, -0.73055637, -0.2741928, -0.2398...          0.917046  \n",
       "1344  [-0.42296505, 0.0075865746, -0.20753312, 0.198...          0.541477  "
      ]
     },
     "execution_count": 30,
     "metadata": {},
     "output_type": "execute_result"
    }
   ],
   "source": [
    "df_with_similarity_score.head()"
   ]
  },
  {
   "cell_type": "markdown",
   "metadata": {
    "id": "nPZd1Oks04f5"
   },
   "source": [
    "## Return Top Brands"
   ]
  },
  {
   "cell_type": "code",
   "execution_count": 31,
   "metadata": {
    "colab": {
     "base_uri": "https://localhost:8080/",
     "height": 486
    },
    "id": "_X2ejCE801_M",
    "outputId": "4b489288-64b7-41c7-9dad-2c8537c04d14"
   },
   "outputs": [
    {
     "data": {
      "text/html": [
       "<div>\n",
       "<style scoped>\n",
       "    .dataframe tbody tr th:only-of-type {\n",
       "        vertical-align: middle;\n",
       "    }\n",
       "\n",
       "    .dataframe tbody tr th {\n",
       "        vertical-align: top;\n",
       "    }\n",
       "\n",
       "    .dataframe thead th {\n",
       "        text-align: right;\n",
       "    }\n",
       "</style>\n",
       "<table border=\"1\" class=\"dataframe\">\n",
       "  <thead>\n",
       "    <tr style=\"text-align: right;\">\n",
       "      <th></th>\n",
       "      <th>brand_id</th>\n",
       "      <th>review_id</th>\n",
       "      <th>avg_rating</th>\n",
       "      <th>is_product_recommended</th>\n",
       "      <th>review_content</th>\n",
       "      <th>is_anonymous</th>\n",
       "      <th>display_name</th>\n",
       "      <th>rating_packaging</th>\n",
       "      <th>rating_price</th>\n",
       "      <th>rating_quality</th>\n",
       "      <th>rating_service</th>\n",
       "      <th>rating_shipping</th>\n",
       "      <th>rating_taste</th>\n",
       "      <th>sentiment_score</th>\n",
       "      <th>review_embedding</th>\n",
       "      <th>similarity_score</th>\n",
       "    </tr>\n",
       "  </thead>\n",
       "  <tbody>\n",
       "    <tr>\n",
       "      <th>719</th>\n",
       "      <td>4f6ffe13a5d75b2d6a3923922b3922e5</td>\n",
       "      <td>2924</td>\n",
       "      <td>0.743583</td>\n",
       "      <td>True</td>\n",
       "      <td>like sell reorder everything good since still ...</td>\n",
       "      <td>False</td>\n",
       "      <td>Snacks</td>\n",
       "      <td>0.706823</td>\n",
       "      <td>0.601703</td>\n",
       "      <td>0.77066</td>\n",
       "      <td>0.966789</td>\n",
       "      <td>0.963495</td>\n",
       "      <td>0.274368</td>\n",
       "      <td>1.0</td>\n",
       "      <td>[-0.31779307, -0.18992049, -0.039039858, -0.22...</td>\n",
       "      <td>1.000000</td>\n",
       "    </tr>\n",
       "    <tr>\n",
       "      <th>1</th>\n",
       "      <td>00411460f7c92d2124a67ea0f4cb5f85</td>\n",
       "      <td>3718</td>\n",
       "      <td>0.743583</td>\n",
       "      <td>True</td>\n",
       "      <td>carry currently stock selling well much need p...</td>\n",
       "      <td>True</td>\n",
       "      <td>Snacks</td>\n",
       "      <td>0.706823</td>\n",
       "      <td>0.601703</td>\n",
       "      <td>0.77066</td>\n",
       "      <td>0.966789</td>\n",
       "      <td>0.963495</td>\n",
       "      <td>0.274368</td>\n",
       "      <td>1.0</td>\n",
       "      <td>[-0.5571632, -0.14720765, -0.33407348, -0.0394...</td>\n",
       "      <td>1.000000</td>\n",
       "    </tr>\n",
       "    <tr>\n",
       "      <th>1658</th>\n",
       "      <td>c7e1249ffc03eb9ded908c236bd1996d</td>\n",
       "      <td>2962</td>\n",
       "      <td>0.743583</td>\n",
       "      <td>True</td>\n",
       "      <td>selling moving pretty well first got much thin...</td>\n",
       "      <td>False</td>\n",
       "      <td>Snacks</td>\n",
       "      <td>0.706823</td>\n",
       "      <td>0.601703</td>\n",
       "      <td>0.77066</td>\n",
       "      <td>0.966789</td>\n",
       "      <td>0.963495</td>\n",
       "      <td>0.274368</td>\n",
       "      <td>0.5</td>\n",
       "      <td>[-0.30708426, -0.73055637, -0.2741928, -0.2398...</td>\n",
       "      <td>0.917046</td>\n",
       "    </tr>\n",
       "    <tr>\n",
       "      <th>697</th>\n",
       "      <td>4c56ff4ce4aaf9573aa5dff913df997a</td>\n",
       "      <td>2820</td>\n",
       "      <td>0.743583</td>\n",
       "      <td>True</td>\n",
       "      <td>trouble thing freezer nature shop dont glass d...</td>\n",
       "      <td>False</td>\n",
       "      <td>Snacks</td>\n",
       "      <td>0.706823</td>\n",
       "      <td>0.601703</td>\n",
       "      <td>0.77066</td>\n",
       "      <td>0.966789</td>\n",
       "      <td>0.963495</td>\n",
       "      <td>0.274368</td>\n",
       "      <td>0.0</td>\n",
       "      <td>[-0.24465466, 0.20265263, -0.079341084, 0.1308...</td>\n",
       "      <td>0.834092</td>\n",
       "    </tr>\n",
       "    <tr>\n",
       "      <th>1502</th>\n",
       "      <td>bbcbff5c1f1ded46c25d28119a85c6c2</td>\n",
       "      <td>3152</td>\n",
       "      <td>0.371791</td>\n",
       "      <td>True</td>\n",
       "      <td>popular hence sold people love often buy bulk ...</td>\n",
       "      <td>False</td>\n",
       "      <td>Snacks</td>\n",
       "      <td>0.353411</td>\n",
       "      <td>0.300851</td>\n",
       "      <td>0.38533</td>\n",
       "      <td>0.483395</td>\n",
       "      <td>0.481748</td>\n",
       "      <td>0.137184</td>\n",
       "      <td>1.0</td>\n",
       "      <td>[-0.21371414, 0.06628278, -0.023210816, -0.421...</td>\n",
       "      <td>0.582954</td>\n",
       "    </tr>\n",
       "  </tbody>\n",
       "</table>\n",
       "</div>"
      ],
      "text/plain": [
       "                              brand_id  review_id  avg_rating  \\\n",
       "719   4f6ffe13a5d75b2d6a3923922b3922e5       2924    0.743583   \n",
       "1     00411460f7c92d2124a67ea0f4cb5f85       3718    0.743583   \n",
       "1658  c7e1249ffc03eb9ded908c236bd1996d       2962    0.743583   \n",
       "697   4c56ff4ce4aaf9573aa5dff913df997a       2820    0.743583   \n",
       "1502  bbcbff5c1f1ded46c25d28119a85c6c2       3152    0.371791   \n",
       "\n",
       "      is_product_recommended  \\\n",
       "719                     True   \n",
       "1                       True   \n",
       "1658                    True   \n",
       "697                     True   \n",
       "1502                    True   \n",
       "\n",
       "                                         review_content is_anonymous  \\\n",
       "719   like sell reorder everything good since still ...        False   \n",
       "1     carry currently stock selling well much need p...         True   \n",
       "1658  selling moving pretty well first got much thin...        False   \n",
       "697   trouble thing freezer nature shop dont glass d...        False   \n",
       "1502  popular hence sold people love often buy bulk ...        False   \n",
       "\n",
       "     display_name  rating_packaging  rating_price  rating_quality  \\\n",
       "719        Snacks          0.706823      0.601703         0.77066   \n",
       "1          Snacks          0.706823      0.601703         0.77066   \n",
       "1658       Snacks          0.706823      0.601703         0.77066   \n",
       "697        Snacks          0.706823      0.601703         0.77066   \n",
       "1502       Snacks          0.353411      0.300851         0.38533   \n",
       "\n",
       "      rating_service  rating_shipping  rating_taste  sentiment_score  \\\n",
       "719         0.966789         0.963495      0.274368              1.0   \n",
       "1           0.966789         0.963495      0.274368              1.0   \n",
       "1658        0.966789         0.963495      0.274368              0.5   \n",
       "697         0.966789         0.963495      0.274368              0.0   \n",
       "1502        0.483395         0.481748      0.137184              1.0   \n",
       "\n",
       "                                       review_embedding  similarity_score  \n",
       "719   [-0.31779307, -0.18992049, -0.039039858, -0.22...          1.000000  \n",
       "1     [-0.5571632, -0.14720765, -0.33407348, -0.0394...          1.000000  \n",
       "1658  [-0.30708426, -0.73055637, -0.2741928, -0.2398...          0.917046  \n",
       "697   [-0.24465466, 0.20265263, -0.079341084, 0.1308...          0.834092  \n",
       "1502  [-0.21371414, 0.06628278, -0.023210816, -0.421...          0.582954  "
      ]
     },
     "execution_count": 31,
     "metadata": {},
     "output_type": "execute_result"
    }
   ],
   "source": [
    "# Get the top 5 brands\n",
    "# df_drop_duplicate = df_with_similarity_score.drop_duplicates(subset='brand_id')\n",
    "top_5_brands = df_with_similarity_score.nlargest(5, 'similarity_score')\n",
    "# top_5_brands\n",
    "top_5_brands"
   ]
  },
  {
   "cell_type": "code",
   "execution_count": 32,
   "metadata": {
    "colab": {
     "base_uri": "https://localhost:8080/"
    },
    "id": "NZdG0HNr06oe",
    "outputId": "0fbb3dd3-9358-4d09-fa7c-c1b14f68b2ee"
   },
   "outputs": [
    {
     "data": {
      "text/plain": [
       "array([0.70682274, 0.60170271, 0.77066022, 0.96678918, 0.96349508,\n",
       "       0.27436838, 0.74358268])"
      ]
     },
     "execution_count": 32,
     "metadata": {},
     "output_type": "execute_result"
    }
   ],
   "source": [
    "random_weights"
   ]
  }
 ],
 "metadata": {
  "colab": {
   "provenance": []
  },
  "kernelspec": {
   "display_name": ".venv",
   "language": "python",
   "name": "python3"
  },
  "language_info": {
   "codemirror_mode": {
    "name": "ipython",
    "version": 3
   },
   "file_extension": ".py",
   "mimetype": "text/x-python",
   "name": "python",
   "nbconvert_exporter": "python",
   "pygments_lexer": "ipython3",
   "version": "3.12.4"
  }
 },
 "nbformat": 4,
 "nbformat_minor": 0
}
